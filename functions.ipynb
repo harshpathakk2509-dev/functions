{
  "nbformat": 4,
  "nbformat_minor": 0,
  "metadata": {
    "colab": {
      "provenance": []
    },
    "kernelspec": {
      "name": "python3",
      "display_name": "Python 3"
    },
    "language_info": {
      "name": "python"
    }
  },
  "cells": [
    {
      "cell_type": "markdown",
      "source": [
        "# Assignment\n",
        "# (Functions)\n",
        "\n",
        "---\n",
        "*   Theory Questions\n",
        "\n",
        "**1>  What is the difference between a function and a method in Python?**\n",
        "*     function in python means define or making own function inside its called function.\n",
        "\n",
        "*     method also a type of a function but it can define outside the class.\n",
        "\n",
        "**2> Explain the concept of function arguments and parameters in Python?**\n",
        "*    arguments>> so the arguments in function basically means an argument is a value that you pass to a function when you call it. These values are used by the function to perform its task.\n",
        "* parameters >> so basically parameters in functions simply means we use parameters as a placeholders of a functions which holds or create a memory to store a arguments.\n",
        "\n",
        "**3> What are the different ways to define and call a function in Python?**\n",
        "*    different ways to  define functions in python is functions with standards functions with default arguments functions with len.\n",
        "*    calling a functions with different ways is positinal, keyword,  mix, lambda, map, filter.\n",
        "\n",
        "**4> What is the purpose of the `return` statement in a Python function?**\n",
        "*    the purpose of the return statement in python, the returns statement help to reuse the output or the result somewhere in code the return statements also means the end function execution, its also gives a multiple values.\n",
        "\n",
        "**5> What are iterators in Python and how do they differ from iterables?**\n",
        "*     iterable is any Python object that can be looped over (i.e., used in a for loop). It implements the __iter__() method and returns an iterator.\n",
        "*     An iterator is an object that represents a stream of data. It implements two methods:\n",
        "- __iter__() → returns the iterator itself\n",
        "- __next__() → returns the next item in the sequence, and raises StopIteration when done\n",
        "\n",
        "**6> xplain the concept of generators in Python and how they are defined?**\n",
        "\n",
        "* Generators in Python are a powerful way to create iterators in a clean, memory-efficient, and readable manner. They allow you to iterate over data one item at a time, without storing the entire sequence in memory.\n",
        "\n",
        "**7>  What are the advantages of using generators over regular functions?**\n",
        "\n",
        "* Generators offer several compelling advantages over regular functions, especially when working with large datasets, streams, or performance-sensitive applications. Here's a breakdown of why they’re so powerful**\n",
        "\n",
        "**8> What is a lambda function in Python and when is it typically used?**\n",
        "\n",
        "*    lambda is a annonymouse function which is used for short codes, and its typically used for maths calculations for example>> (addition = lambda = a,b:+b)\n",
        "\n",
        "**9> Explain the purpose and usage of the `map()` function in Python**\n",
        "*    the map() function in Python is a powerful built-in tool used for applying a function to every item in an iterable (like a list, tuple, or set) and returning a new iterable (specifically a map object) with the results.\n",
        "\n",
        "**10> What is the difference between `map()`, `reduce()`, and `filter()` functions in Python??\n",
        "\n",
        "*  map(): Transform Each Element\n",
        "Purpose: Applies a function to every item in an iterable and returns a new iterable with the transformed items.\n",
        "*  filter(): Select Elements Based on Condition\n",
        "Purpose: Filters elements from an iterable based on a condition (function that returns True or False).\n",
        "*   reduce(): Combine Elements into a Single Value\n",
        "Purpose: Applies a function cumulatively to the items of an iterable, reducing it to a single value.\n",
        "\n",
        "11>\n",
        "\n",
        "\n",
        "\n",
        "\n",
        "\n",
        "\n",
        "\n",
        "\n",
        "\n",
        "\n",
        "\n"
      ],
      "metadata": {
        "id": "qZD-Gr-mgvCi"
      }
    },
    {
      "cell_type": "markdown",
      "source": [
        "# Practical questions.\n",
        "\n",
        "\n",
        "---\n",
        "\n",
        "**1>. Write a Python function that takes a list of numbers as input and returns the sum of all even numbers in\n",
        "the list**\n",
        "\n"
      ],
      "metadata": {
        "id": "mX9UU3t7PZFV"
      }
    },
    {
      "cell_type": "code",
      "source": [
        "def sum_of_even_numbers(numbers):\n",
        "    even_sum = 0\n",
        "    for num in numbers:\n",
        "        if num % 2 == 0:\n",
        "            even_sum += num\n",
        "    return even_sum"
      ],
      "metadata": {
        "id": "Ytg2U0TSiiQg"
      },
      "execution_count": null,
      "outputs": []
    },
    {
      "cell_type": "code",
      "source": [
        "sum_of_even_numbers([1,2,3,4,5,6,7,8,9,10])"
      ],
      "metadata": {
        "colab": {
          "base_uri": "https://localhost:8080/"
        },
        "id": "fRWZtkMxP1cP",
        "outputId": "7ec45cbc-b946-4fb3-b2bf-0a8fa5a214e3"
      },
      "execution_count": null,
      "outputs": [
        {
          "output_type": "execute_result",
          "data": {
            "text/plain": [
              "30"
            ]
          },
          "metadata": {},
          "execution_count": 2
        }
      ]
    },
    {
      "cell_type": "markdown",
      "source": [
        "**2>Create a Python function that accepts a string and returns the reverse of that string.**"
      ],
      "metadata": {
        "id": "BT5i3k8WP-Dp"
      }
    },
    {
      "cell_type": "code",
      "source": [
        "def reverse_string(string):\n",
        "    return string[::-1]"
      ],
      "metadata": {
        "id": "PHFAygvoP7Bd"
      },
      "execution_count": 1,
      "outputs": []
    },
    {
      "cell_type": "code",
      "source": [
        "reverse_string(\"hello\")"
      ],
      "metadata": {
        "colab": {
          "base_uri": "https://localhost:8080/",
          "height": 36
        },
        "id": "kN626Q35TRfG",
        "outputId": "dd8a4e1f-9311-4036-99c1-d673d7bf8cc3"
      },
      "execution_count": 2,
      "outputs": [
        {
          "output_type": "execute_result",
          "data": {
            "text/plain": [
              "'olleh'"
            ],
            "application/vnd.google.colaboratory.intrinsic+json": {
              "type": "string"
            }
          },
          "metadata": {},
          "execution_count": 2
        }
      ]
    },
    {
      "cell_type": "markdown",
      "source": [
        "**3> Implement a Python function that takes a list of integers and returns a new list containing the squares of\n",
        "each number**"
      ],
      "metadata": {
        "id": "UhDeeYlPTePY"
      }
    },
    {
      "cell_type": "code",
      "source": [
        "def liss(numbers):\n",
        "    squares = []\n",
        "    for num in numbers:\n",
        "        squares.append(num**2)\n",
        "    return squares"
      ],
      "metadata": {
        "id": "qkkpjb8_TTMd"
      },
      "execution_count": 3,
      "outputs": []
    },
    {
      "cell_type": "code",
      "source": [
        "liss([1,2,3,4,5])"
      ],
      "metadata": {
        "colab": {
          "base_uri": "https://localhost:8080/"
        },
        "id": "xkzinNzhT3Tf",
        "outputId": "6a5391ca-90b6-438a-8420-ffe5ca94196a"
      },
      "execution_count": 4,
      "outputs": [
        {
          "output_type": "execute_result",
          "data": {
            "text/plain": [
              "[1, 4, 9, 16, 25]"
            ]
          },
          "metadata": {},
          "execution_count": 4
        }
      ]
    },
    {
      "cell_type": "markdown",
      "source": [
        "**4> Write a Python function that checks if a given number is prime or not from 1 to 200.**"
      ],
      "metadata": {
        "id": "GWiglQwXURop"
      }
    },
    {
      "cell_type": "code",
      "source": [
        "def prime_number(number):\n",
        "  if number < 2:\n",
        "    return False\n",
        "  for i in range(2, int(number**0.5) + 1):\n",
        "    if number % i == 0:\n",
        "      return False\n",
        "  return True"
      ],
      "metadata": {
        "id": "uTaSQAgdUX30"
      },
      "execution_count": 5,
      "outputs": []
    },
    {
      "cell_type": "code",
      "source": [
        "prime_number(5)"
      ],
      "metadata": {
        "colab": {
          "base_uri": "https://localhost:8080/"
        },
        "id": "nwY3BDacUoBK",
        "outputId": "396821f5-efa9-4dcd-f082-a9a690cc85e7"
      },
      "execution_count": 8,
      "outputs": [
        {
          "output_type": "execute_result",
          "data": {
            "text/plain": [
              "True"
            ]
          },
          "metadata": {},
          "execution_count": 8
        }
      ]
    },
    {
      "cell_type": "markdown",
      "source": [
        "**5> . Create an iterator class in Python that generates the Fibonacci sequence up to a specified number of\n",
        "terms**"
      ],
      "metadata": {
        "id": "94QMdueLU8_C"
      }
    },
    {
      "cell_type": "code",
      "source": [
        "def fibonacci_generator(n):\n",
        "    a, b = 0, 1\n",
        "    for _ in range(n):\n",
        "        yield a\n",
        "        a, b = b, a + b"
      ],
      "metadata": {
        "id": "qFmR-kkvVDpa"
      },
      "execution_count": 9,
      "outputs": []
    },
    {
      "cell_type": "code",
      "source": [
        "fibonacci_generator(10)"
      ],
      "metadata": {
        "colab": {
          "base_uri": "https://localhost:8080/"
        },
        "id": "0JKfDQk9Uuj1",
        "outputId": "d4b28ec2-ea34-4e38-cbf4-d135bc6f5866"
      },
      "execution_count": 10,
      "outputs": [
        {
          "output_type": "execute_result",
          "data": {
            "text/plain": [
              "<generator object fibonacci_generator at 0x7894efc3a260>"
            ]
          },
          "metadata": {},
          "execution_count": 10
        }
      ]
    },
    {
      "cell_type": "markdown",
      "source": [
        "**6>  Write a generator function in Python that yields the powers of 2 up to a given exponent.**"
      ],
      "metadata": {
        "id": "Xko5gj_zVVfj"
      }
    },
    {
      "cell_type": "code",
      "source": [
        "def power_of_two_generator(n):\n",
        "    power = 1\n",
        "    for _ in range(n):\n",
        "        yield power\n",
        "        power *= 2"
      ],
      "metadata": {
        "id": "K4XfVv5SVZiG"
      },
      "execution_count": 11,
      "outputs": []
    },
    {
      "cell_type": "code",
      "source": [
        "power_of_two_generator(5)\n"
      ],
      "metadata": {
        "colab": {
          "base_uri": "https://localhost:8080/"
        },
        "id": "JKtcbNxiVOC1",
        "outputId": "7f32d2ea-24de-4969-d2af-be655970d659"
      },
      "execution_count": 12,
      "outputs": [
        {
          "output_type": "execute_result",
          "data": {
            "text/plain": [
              "<generator object power_of_two_generator at 0x7894ee960ad0>"
            ]
          },
          "metadata": {},
          "execution_count": 12
        }
      ]
    },
    {
      "cell_type": "markdown",
      "source": [
        "**7> Implement a generator function that reads a file line by line and yields each line as a string.**"
      ],
      "metadata": {
        "id": "oSa0DLPgVoG5"
      }
    },
    {
      "cell_type": "code",
      "source": [
        "def read_file_lines(file_path):\n",
        "    with open(file_path, 'r') as file:\n",
        "        for line in file:\n",
        "            yield line.strip()"
      ],
      "metadata": {
        "id": "yBcyJyZ1VgOV"
      },
      "execution_count": 13,
      "outputs": []
    },
    {
      "cell_type": "code",
      "source": [
        "read_file_lines(\"file.txt\")"
      ],
      "metadata": {
        "colab": {
          "base_uri": "https://localhost:8080/"
        },
        "id": "pdL2jrRuVvYq",
        "outputId": "bbba5c03-fd20-45ef-9624-fd9e47e2012d"
      },
      "execution_count": 14,
      "outputs": [
        {
          "output_type": "execute_result",
          "data": {
            "text/plain": [
              "<generator object read_file_lines at 0x7894ee7b4c70>"
            ]
          },
          "metadata": {},
          "execution_count": 14
        }
      ]
    },
    {
      "cell_type": "markdown",
      "source": [
        "**8>. Use a lambda function in Python to sort a list of tuples based on the second element of each tuple.**"
      ],
      "metadata": {
        "id": "pUlj32O6WSki"
      }
    },
    {
      "cell_type": "code",
      "source": [
        "def sort_list_of_tuples(tuples_list):\n",
        "    return sorted(tuples_list, key=lambda x: x[1])"
      ],
      "metadata": {
        "id": "xhak4g6_V2qO"
      },
      "execution_count": 17,
      "outputs": []
    },
    {
      "cell_type": "code",
      "source": [
        "sort_list_of_tuples([(1, 2), (3, 1), (2, 4)])"
      ],
      "metadata": {
        "colab": {
          "base_uri": "https://localhost:8080/"
        },
        "id": "G40gp6X1WcvK",
        "outputId": "54ca551a-90f3-41c2-d4d5-8dac1120da71"
      },
      "execution_count": 18,
      "outputs": [
        {
          "output_type": "execute_result",
          "data": {
            "text/plain": [
              "[(3, 1), (1, 2), (2, 4)]"
            ]
          },
          "metadata": {},
          "execution_count": 18
        }
      ]
    },
    {
      "cell_type": "markdown",
      "source": [
        "** 9> Write a Python program that uses `map()` to convert a list of temperatures from Celsius to Fahrenheit**"
      ],
      "metadata": {
        "id": "b_2UO-6sWqBk"
      }
    },
    {
      "cell_type": "code",
      "source": [
        "celsius_temperatures = [0, 10, 20, 30, 40]\n",
        "fahrenheit_temperatures = list(map(lambda c: (c * 9/5) + 32, celsius_temperatures))"
      ],
      "metadata": {
        "id": "2W1IsXwxWfF5"
      },
      "execution_count": 19,
      "outputs": []
    },
    {
      "cell_type": "markdown",
      "source": [
        "**10>  Create a Python program that uses `filter()` to remove all the vowels from a given string**"
      ],
      "metadata": {
        "id": "7fjrQTLmXaOX"
      }
    },
    {
      "cell_type": "code",
      "source": [
        "input_string = \"Hello, World!\"\n",
        "vowels = 'aeiouAEIOU'\n",
        "filtered_string = ''.join(filter(lambda x: x not in vowels, input_string))"
      ],
      "metadata": {
        "id": "vorPIL-xXFyL"
      },
      "execution_count": 22,
      "outputs": []
    },
    {
      "cell_type": "markdown",
      "source": [
        "**11>"
      ],
      "metadata": {
        "id": "UjR9IWKQXvc9"
      }
    },
    {
      "cell_type": "code",
      "source": [],
      "metadata": {
        "id": "UeXSRxf1XpZv"
      },
      "execution_count": null,
      "outputs": []
    }
  ]
}